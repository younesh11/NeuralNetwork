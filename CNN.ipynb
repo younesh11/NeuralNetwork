{
 "cells": [
  {
   "cell_type": "markdown",
   "metadata": {},
   "source": [
    "# Introduction and Implementation to CNN"
   ]
  },
  {
   "cell_type": "code",
   "execution_count": 26,
   "metadata": {},
   "outputs": [],
   "source": [
    "import numpy as np\n",
    "import pandas as pd \n",
    "import keras\n",
    "import matplotlib.pyplot as plt"
   ]
  },
  {
   "cell_type": "code",
   "execution_count": 3,
   "metadata": {},
   "outputs": [],
   "source": [
    "from keras.datasets import fashion_mnist\n",
    "from keras.models import Sequential\n",
    "from keras.layers import Dense, Dropout, Flatten\n",
    "from keras.layers import Conv2D, MaxPooling2D\n",
    " "
   ]
  },
  {
   "cell_type": "code",
   "execution_count": 17,
   "metadata": {},
   "outputs": [],
   "source": [
    "num_classes = 10\n",
    "batch_size = 128\n",
    "epochs =  24"
   ]
  },
  {
   "cell_type": "code",
   "execution_count": 5,
   "metadata": {},
   "outputs": [],
   "source": [
    "img_rows, img_cols = 28, 28"
   ]
  },
  {
   "cell_type": "code",
   "execution_count": 6,
   "metadata": {},
   "outputs": [
    {
     "name": "stdout",
     "output_type": "stream",
     "text": [
      "Downloading data from http://fashion-mnist.s3-website.eu-central-1.amazonaws.com/train-labels-idx1-ubyte.gz\n",
      "32768/29515 [=================================] - 0s 7us/step\n",
      "Downloading data from http://fashion-mnist.s3-website.eu-central-1.amazonaws.com/train-images-idx3-ubyte.gz\n",
      "26427392/26421880 [==============================] - 33s 1us/step\n",
      "Downloading data from http://fashion-mnist.s3-website.eu-central-1.amazonaws.com/t10k-labels-idx1-ubyte.gz\n",
      "8192/5148 [===============================================] - 0s 0us/step\n",
      "Downloading data from http://fashion-mnist.s3-website.eu-central-1.amazonaws.com/t10k-images-idx3-ubyte.gz\n",
      "4423680/4422102 [==============================] - 8s 2us/step\n"
     ]
    }
   ],
   "source": [
    "(X_train, y_train), (X_test, y_test) = fashion_mnist.load_data()"
   ]
  },
  {
   "cell_type": "code",
   "execution_count": 20,
   "metadata": {},
   "outputs": [],
   "source": [
    "X_train = X_train.reshape(X_train.shape[0], img_rows, img_cols,1)\n",
    "X_test = X_test.reshape(X_test.shape[0], img_rows, img_cols,1)\n",
    "input_shape = (img_rows, img_cols, 1)"
   ]
  },
  {
   "cell_type": "code",
   "execution_count": 15,
   "metadata": {},
   "outputs": [],
   "source": [
    "X_train = X_train.astype('float32')\n",
    "X_test = X_test.astype('float32')\n",
    "X_train /= 255\n",
    "X_test /= 255"
   ]
  },
  {
   "cell_type": "code",
   "execution_count": 18,
   "metadata": {},
   "outputs": [],
   "source": [
    "y_train = keras.utils.to_categorical(y_train, num_classes)\n",
    "y_test = keras.utils.to_categorical(y_test, num_classes)"
   ]
  },
  {
   "cell_type": "markdown",
   "metadata": {},
   "source": [
    "# Defining model"
   ]
  },
  {
   "cell_type": "code",
   "execution_count": 30,
   "metadata": {
    "scrolled": true
   },
   "outputs": [],
   "source": [
    "model = Sequential()\n",
    "model.add(Conv2D(32, kernel_size = (3,3), \n",
    "                 activation = 'relu',\n",
    "                 input_shape = input_shape))\n",
    "model.add(MaxPooling2D(pool_size = (2,2))) \n",
    "model.add(Conv2D(32, kernel_size = (3,3), \n",
    "                 activation = 'relu',))\n",
    "model.add(MaxPooling2D(pool_size = (2,2)))\n",
    "model.add(Flatten())\n",
    "model.add(Dense(128, activation = 'relu'))\n",
    "model.add(Dropout(0.5))\n",
    "model.add(Dense(num_classes, activation = 'softmax'))"
   ]
  },
  {
   "cell_type": "code",
   "execution_count": 22,
   "metadata": {},
   "outputs": [],
   "source": [
    "model.compile(loss = keras.losses.categorical_crossentropy,\n",
    "             optimizer = keras.optimizers.Adadelta(), \n",
    "              metrics = ['accuracy'])\n"
   ]
  },
  {
   "cell_type": "code",
   "execution_count": 25,
   "metadata": {
    "scrolled": true
   },
   "outputs": [
    {
     "name": "stdout",
     "output_type": "stream",
     "text": [
      "WARNING:tensorflow:From /home/younesh/.local/lib/python3.6/site-packages/tensorflow/python/ops/math_ops.py:3066: to_int32 (from tensorflow.python.ops.math_ops) is deprecated and will be removed in a future version.\n",
      "Instructions for updating:\n",
      "Use tf.cast instead.\n",
      "Train on 60000 samples, validate on 10000 samples\n",
      "Epoch 1/24\n",
      "60000/60000 [==============================] - 56s 935us/step - loss: 0.6797 - acc: 0.7523 - val_loss: 0.4580 - val_acc: 0.8266\n",
      "Epoch 2/24\n",
      "60000/60000 [==============================] - 54s 894us/step - loss: 0.4305 - acc: 0.8455 - val_loss: 0.3672 - val_acc: 0.8666\n",
      "Epoch 3/24\n",
      "60000/60000 [==============================] - 51s 849us/step - loss: 0.3749 - acc: 0.8668 - val_loss: 0.3416 - val_acc: 0.8772\n",
      "Epoch 4/24\n",
      "60000/60000 [==============================] - 53s 884us/step - loss: 0.3440 - acc: 0.8758 - val_loss: 0.3195 - val_acc: 0.8837\n",
      "Epoch 5/24\n",
      "60000/60000 [==============================] - 53s 887us/step - loss: 0.3214 - acc: 0.8854 - val_loss: 0.3129 - val_acc: 0.8868\n",
      "Epoch 6/24\n",
      "60000/60000 [==============================] - 53s 890us/step - loss: 0.3065 - acc: 0.8907 - val_loss: 0.2954 - val_acc: 0.8898\n",
      "Epoch 7/24\n",
      "60000/60000 [==============================] - 53s 887us/step - loss: 0.2904 - acc: 0.8965 - val_loss: 0.2841 - val_acc: 0.8950\n",
      "Epoch 8/24\n",
      "60000/60000 [==============================] - 54s 903us/step - loss: 0.2762 - acc: 0.9010 - val_loss: 0.2801 - val_acc: 0.8982\n",
      "Epoch 9/24\n",
      "60000/60000 [==============================] - 54s 894us/step - loss: 0.2678 - acc: 0.9042 - val_loss: 0.2759 - val_acc: 0.9005\n",
      "Epoch 10/24\n",
      "60000/60000 [==============================] - 53s 885us/step - loss: 0.2568 - acc: 0.9074 - val_loss: 0.2699 - val_acc: 0.9036\n",
      "Epoch 11/24\n",
      "60000/60000 [==============================] - 53s 888us/step - loss: 0.2488 - acc: 0.9098 - val_loss: 0.2663 - val_acc: 0.9017\n",
      "Epoch 12/24\n",
      "60000/60000 [==============================] - 53s 886us/step - loss: 0.2428 - acc: 0.9120 - val_loss: 0.2685 - val_acc: 0.9030\n",
      "Epoch 13/24\n",
      "60000/60000 [==============================] - 56s 929us/step - loss: 0.2353 - acc: 0.9140 - val_loss: 0.2636 - val_acc: 0.9066\n",
      "Epoch 14/24\n",
      "60000/60000 [==============================] - 53s 878us/step - loss: 0.2275 - acc: 0.9169 - val_loss: 0.2622 - val_acc: 0.9053\n",
      "Epoch 15/24\n",
      "60000/60000 [==============================] - 52s 873us/step - loss: 0.2234 - acc: 0.9189 - val_loss: 0.2663 - val_acc: 0.9054\n",
      "Epoch 16/24\n",
      "60000/60000 [==============================] - 53s 876us/step - loss: 0.2188 - acc: 0.9204 - val_loss: 0.2548 - val_acc: 0.9084\n",
      "Epoch 17/24\n",
      "60000/60000 [==============================] - 53s 890us/step - loss: 0.2128 - acc: 0.9220 - val_loss: 0.2702 - val_acc: 0.9064\n",
      "Epoch 18/24\n",
      "60000/60000 [==============================] - 53s 875us/step - loss: 0.2084 - acc: 0.9233 - val_loss: 0.2581 - val_acc: 0.9096\n",
      "Epoch 19/24\n",
      "60000/60000 [==============================] - 49s 814us/step - loss: 0.2033 - acc: 0.9268 - val_loss: 0.2618 - val_acc: 0.9059\n",
      "Epoch 20/24\n",
      "60000/60000 [==============================] - 43s 712us/step - loss: 0.1981 - acc: 0.9278 - val_loss: 0.2517 - val_acc: 0.9111\n",
      "Epoch 21/24\n",
      "60000/60000 [==============================] - 43s 717us/step - loss: 0.1942 - acc: 0.9289 - val_loss: 0.2620 - val_acc: 0.9091\n",
      "Epoch 22/24\n",
      "60000/60000 [==============================] - 43s 714us/step - loss: 0.1907 - acc: 0.9295 - val_loss: 0.2591 - val_acc: 0.9113\n",
      "Epoch 23/24\n",
      "60000/60000 [==============================] - 43s 723us/step - loss: 0.1869 - acc: 0.9308 - val_loss: 0.2518 - val_acc: 0.9121\n",
      "Epoch 24/24\n",
      "60000/60000 [==============================] - 52s 873us/step - loss: 0.1837 - acc: 0.9322 - val_loss: 0.2503 - val_acc: 0.9114\n"
     ]
    }
   ],
   "source": [
    "hist = model.fit(X_train, y_train,\n",
    "                batch_size = batch_size,\n",
    "                epochs = epochs,\n",
    "                verbose = 1,\n",
    "                validation_data = (X_test, y_test))"
   ]
  },
  {
   "cell_type": "code",
   "execution_count": 27,
   "metadata": {},
   "outputs": [
    {
     "name": "stdout",
     "output_type": "stream",
     "text": [
      "test loss 0.2503216787517071\n",
      "test accuracy 0.9114\n"
     ]
    }
   ],
   "source": [
    "score = model.evaluate(X_test, y_test, verbose = 0)\n",
    "print('test loss', score[0])\n",
    "print('test accuracy', score[1])"
   ]
  },
  {
   "cell_type": "code",
   "execution_count": 29,
   "metadata": {},
   "outputs": [
    {
     "data": {
      "image/png": "[encoded data removed]",
      "text/plain": [
       "<Figure size 432x288 with 1 Axes>"
      ]
     },
     "metadata": {
      "needs_background": "light"
     },
     "output_type": "display_data"
    }
   ],
   "source": [
    "epoch_list = list(range(1, len(hist.history['acc']) + 1))\n",
    "plt.plot(epoch_list, hist.history['acc'], epoch_list, hist.history['val_acc'])\n",
    "plt.legend(('Training Accuracy', 'Validation Accuracy'))\n",
    "plt.show()"
   ]
  },
  {
   "cell_type": "code",
   "execution_count": null,
   "metadata": {},
   "outputs": [],
   "source": []
  }
 ],
 "metadata": {
  "kernelspec": {
   "display_name": "Python 3",
   "language": "python",
   "name": "python3"
  },
  "language_info": {
   "codemirror_mode": {
    "name": "ipython",
    "version": 3
   },
   "file_extension": ".py",
   "mimetype": "text/x-python",
   "name": "python",
   "nbconvert_exporter": "python",
   "pygments_lexer": "ipython3",
   "version": "3.6.8"
  }
 },
 "nbformat": 4,
 "nbformat_minor": 2
}
